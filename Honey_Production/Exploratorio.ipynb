{
 "cells": [
  {
   "attachments": {},
   "cell_type": "markdown",
   "metadata": {},
   "source": [
    "## **Análisis exploratorio de datos**"
   ]
  },
  {
   "attachments": {},
   "cell_type": "markdown",
   "metadata": {},
   "source": [
    "### **0. Guía**"
   ]
  },
  {
   "attachments": {},
   "cell_type": "markdown",
   "metadata": {},
   "source": [
    "<img src='Imágenes\\EDA.PNG'>\n",
    "\n",
    "\n",
    "| Fuente | Detalle |\n",
    "|  :---:  |---------|\n",
    "| Guía práctica de Introducción al AED, España | [Guía pública](https://datos.gob.es/es/) |"
   ]
  },
  {
   "attachments": {},
   "cell_type": "markdown",
   "metadata": {},
   "source": [
    "### **1. Dataset**"
   ]
  },
  {
   "attachments": {},
   "cell_type": "markdown",
   "metadata": {},
   "source": [
    "| Aspecto | Detalle |\n",
    "|  :---:  |---------|\n",
    "| Nombre | US Honey Production 1995-2021 🍯🐝 |\n",
    "| Fuente | Honey Production data by National Agricultural Statistics Service, USDA |\n",
    "| url | [dataset de Kaggle.com](https://www.kaggle.com/datasets/mohitpoudel/us-honey-production-19952021) |\n",
    "| Tamaño | < 10.000 datos |"
   ]
  },
  {
   "attachments": {},
   "cell_type": "markdown",
   "metadata": {},
   "source": [
    "### **2. Análisis descriptivo**"
   ]
  },
  {
   "attachments": {},
   "cell_type": "markdown",
   "metadata": {},
   "source": [
    "#### **2.1 Lectura de datos**"
   ]
  },
  {
   "cell_type": "code",
   "execution_count": 1,
   "metadata": {},
   "outputs": [],
   "source": [
    "import pandas as pd\n",
    "import numpy as np\n",
    "import seaborn as sns"
   ]
  },
  {
   "cell_type": "code",
   "execution_count": 2,
   "metadata": {},
   "outputs": [
    {
     "name": "stdout",
     "output_type": "stream",
     "text": [
      "\n",
      "Contenido del dataset de estudio\n",
      "\n"
     ]
    },
    {
     "data": {
      "text/html": [
       "<div>\n",
       "<style scoped>\n",
       "    .dataframe tbody tr th:only-of-type {\n",
       "        vertical-align: middle;\n",
       "    }\n",
       "\n",
       "    .dataframe tbody tr th {\n",
       "        vertical-align: top;\n",
       "    }\n",
       "\n",
       "    .dataframe thead th {\n",
       "        text-align: right;\n",
       "    }\n",
       "</style>\n",
       "<table border=\"1\" class=\"dataframe\">\n",
       "  <thead>\n",
       "    <tr style=\"text-align: right;\">\n",
       "      <th></th>\n",
       "      <th>state</th>\n",
       "      <th>colonies_number</th>\n",
       "      <th>yield_per_colony</th>\n",
       "      <th>production</th>\n",
       "      <th>stocks</th>\n",
       "      <th>average_price</th>\n",
       "      <th>value_of_production</th>\n",
       "      <th>year</th>\n",
       "    </tr>\n",
       "  </thead>\n",
       "  <tbody>\n",
       "    <tr>\n",
       "      <th>0</th>\n",
       "      <td>Alabama</td>\n",
       "      <td>16000</td>\n",
       "      <td>58</td>\n",
       "      <td>928000</td>\n",
       "      <td>28000</td>\n",
       "      <td>62.00</td>\n",
       "      <td>575000</td>\n",
       "      <td>1995</td>\n",
       "    </tr>\n",
       "    <tr>\n",
       "      <th>1</th>\n",
       "      <td>Arizona</td>\n",
       "      <td>52000</td>\n",
       "      <td>79</td>\n",
       "      <td>4108000</td>\n",
       "      <td>986000</td>\n",
       "      <td>68.00</td>\n",
       "      <td>2793000</td>\n",
       "      <td>1995</td>\n",
       "    </tr>\n",
       "    <tr>\n",
       "      <th>2</th>\n",
       "      <td>Arkansas</td>\n",
       "      <td>50000</td>\n",
       "      <td>60</td>\n",
       "      <td>3000000</td>\n",
       "      <td>900000</td>\n",
       "      <td>64.00</td>\n",
       "      <td>1920000</td>\n",
       "      <td>1995</td>\n",
       "    </tr>\n",
       "    <tr>\n",
       "      <th>3</th>\n",
       "      <td>California</td>\n",
       "      <td>420000</td>\n",
       "      <td>93</td>\n",
       "      <td>39060000</td>\n",
       "      <td>4687000</td>\n",
       "      <td>60.00</td>\n",
       "      <td>23436000</td>\n",
       "      <td>1995</td>\n",
       "    </tr>\n",
       "    <tr>\n",
       "      <th>4</th>\n",
       "      <td>Colorado</td>\n",
       "      <td>45000</td>\n",
       "      <td>60</td>\n",
       "      <td>2700000</td>\n",
       "      <td>1404000</td>\n",
       "      <td>68.00</td>\n",
       "      <td>1836000</td>\n",
       "      <td>1995</td>\n",
       "    </tr>\n",
       "    <tr>\n",
       "      <th>...</th>\n",
       "      <td>...</td>\n",
       "      <td>...</td>\n",
       "      <td>...</td>\n",
       "      <td>...</td>\n",
       "      <td>...</td>\n",
       "      <td>...</td>\n",
       "      <td>...</td>\n",
       "      <td>...</td>\n",
       "    </tr>\n",
       "    <tr>\n",
       "      <th>1110</th>\n",
       "      <td>Virginia</td>\n",
       "      <td>6000</td>\n",
       "      <td>40</td>\n",
       "      <td>79000</td>\n",
       "      <td>79000</td>\n",
       "      <td>8.23</td>\n",
       "      <td>1975000</td>\n",
       "      <td>2021</td>\n",
       "    </tr>\n",
       "    <tr>\n",
       "      <th>1111</th>\n",
       "      <td>Washington</td>\n",
       "      <td>96000</td>\n",
       "      <td>32</td>\n",
       "      <td>1206000</td>\n",
       "      <td>1206000</td>\n",
       "      <td>2.52</td>\n",
       "      <td>7741000</td>\n",
       "      <td>2021</td>\n",
       "    </tr>\n",
       "    <tr>\n",
       "      <th>1112</th>\n",
       "      <td>WestVirginia</td>\n",
       "      <td>6000</td>\n",
       "      <td>43</td>\n",
       "      <td>136000</td>\n",
       "      <td>136000</td>\n",
       "      <td>4.80</td>\n",
       "      <td>1238000</td>\n",
       "      <td>2021</td>\n",
       "    </tr>\n",
       "    <tr>\n",
       "      <th>1113</th>\n",
       "      <td>Wisconsin</td>\n",
       "      <td>42000</td>\n",
       "      <td>47</td>\n",
       "      <td>750000</td>\n",
       "      <td>750000</td>\n",
       "      <td>2.81</td>\n",
       "      <td>5547000</td>\n",
       "      <td>2021</td>\n",
       "    </tr>\n",
       "    <tr>\n",
       "      <th>1114</th>\n",
       "      <td>Wyoming</td>\n",
       "      <td>38000</td>\n",
       "      <td>58</td>\n",
       "      <td>242000</td>\n",
       "      <td>242000</td>\n",
       "      <td>2.07</td>\n",
       "      <td>4562000</td>\n",
       "      <td>2021</td>\n",
       "    </tr>\n",
       "  </tbody>\n",
       "</table>\n",
       "<p>1115 rows × 8 columns</p>\n",
       "</div>"
      ],
      "text/plain": [
       "             state  colonies_number  yield_per_colony  production   stocks  \\\n",
       "0          Alabama            16000                58      928000    28000   \n",
       "1          Arizona            52000                79     4108000   986000   \n",
       "2         Arkansas            50000                60     3000000   900000   \n",
       "3       California           420000                93    39060000  4687000   \n",
       "4         Colorado            45000                60     2700000  1404000   \n",
       "...            ...              ...               ...         ...      ...   \n",
       "1110      Virginia             6000                40       79000    79000   \n",
       "1111    Washington            96000                32     1206000  1206000   \n",
       "1112  WestVirginia             6000                43      136000   136000   \n",
       "1113     Wisconsin            42000                47      750000   750000   \n",
       "1114       Wyoming            38000                58      242000   242000   \n",
       "\n",
       "      average_price  value_of_production  year  \n",
       "0             62.00               575000  1995  \n",
       "1             68.00              2793000  1995  \n",
       "2             64.00              1920000  1995  \n",
       "3             60.00             23436000  1995  \n",
       "4             68.00              1836000  1995  \n",
       "...             ...                  ...   ...  \n",
       "1110           8.23              1975000  2021  \n",
       "1111           2.52              7741000  2021  \n",
       "1112           4.80              1238000  2021  \n",
       "1113           2.81              5547000  2021  \n",
       "1114           2.07              4562000  2021  \n",
       "\n",
       "[1115 rows x 8 columns]"
      ]
     },
     "execution_count": 2,
     "metadata": {},
     "output_type": "execute_result"
    }
   ],
   "source": [
    "print('\\nContenido del dataset de estudio\\n')\n",
    "dataH = pd.read_csv('US_honey_dataset_updated.csv', index_col = 0)\n",
    "dataH"
   ]
  },
  {
   "attachments": {},
   "cell_type": "markdown",
   "metadata": {},
   "source": [
    "Visualización inicial del df. La primera columna del ds con numeración de filas es utilizada como *index columna*, usando el parámetro *index_col = 0*."
   ]
  },
  {
   "attachments": {},
   "cell_type": "markdown",
   "metadata": {},
   "source": [
    "##### **2.1.1 Previsualización de datos**"
   ]
  },
  {
   "cell_type": "code",
   "execution_count": 3,
   "metadata": {},
   "outputs": [
    {
     "name": "stdout",
     "output_type": "stream",
     "text": [
      "\n",
      "Principales características del dataset:\n",
      "\n",
      "- El número total de entradas del conjunto de datos es de 1115.\n",
      "- El número total de variables es de 8, 1 variable de tipo objeto, 1 de tipo decimal y 6 de tipo entero.\n",
      "- El número total de observaciones es de 8920.\n",
      "- El rango temporal va desde 1995 hasta 2021.\n",
      "- La variable categoríca \"state\" permite organizar las entradas de acuerdo con el estado donde se ubican los productores de miel en US.\n",
      "- Las varibales numéricas del conjunto son:\n",
      "\t ['colonies_number', 'yield_per_colony', 'production', 'stocks', 'average_price', 'value_of_production', 'year']\n"
     ]
    }
   ],
   "source": [
    "print('\\nPrincipales características del dataset:\\n')\n",
    "\n",
    "#Estructura del dataset\n",
    "filas, columnas = dataH.shape\n",
    "producto = dataH.size\n",
    "\n",
    "#tipos de datos por variable\n",
    "Otype = 0\n",
    "Itype = 0\n",
    "Ftype = 0\n",
    "\n",
    "for columna in dataH.columns:\n",
    "  tdato = dataH.dtypes[columna]\n",
    "  if tdato == 'O':\n",
    "    Otype += 1\n",
    "  elif tdato == 'float64':\n",
    "    Ftype += 1\n",
    "  elif tdato == 'int64':\n",
    "      Itype += 1\n",
    "  else:\n",
    "        print('Tipo de dato no identificado')\n",
    "        \n",
    "#rango temporal del dataset\n",
    "fmin = dataH['year'].min()\n",
    "fmax = dataH['year'].max()\n",
    "\n",
    "print(f'- El número total de entradas del conjunto de datos es de {filas}.')\n",
    "print(f'- El número total de variables es de {columnas}, {Otype} variable de tipo objeto, {Ftype} de tipo decimal y {Itype} de tipo entero.')\n",
    "print(f'- El número total de observaciones es de {producto}.')\n",
    "print(f'- El rango temporal va desde {fmin} hasta {fmax}.')\n",
    "\n",
    "#variables categóricas\n",
    "for columna in dataH.columns:\n",
    "  tdato = dataH.dtypes[columna]\n",
    "  if tdato == object:\n",
    "    print(f'- La variable categoríca \"{columna}\" permite organizar las entradas de acuerdo con el estado donde se ubican los productores de miel en US.')\n",
    "\n",
    "#variables numéricas\n",
    "print('- Las varibales numéricas del conjunto son:')\n",
    "numericas = []\n",
    "for columna in dataH.columns:\n",
    "  tdato = dataH.dtypes[columna]\n",
    "  if (tdato == 'float64' or tdato == 'int64'):\n",
    "    numericas.append(columna)\n",
    "print('\\t',numericas)"
   ]
  },
  {
   "attachments": {},
   "cell_type": "markdown",
   "metadata": {},
   "source": [
    "Adicional a las observaciones arriba y para análisis posteriores, **se puede considerar la variable *\"year\"* como categórica**, dado que las filas de datos pueden ser agrupadas de acuerdo con sus valores o rangos de ellos."
   ]
  },
  {
   "attachments": {},
   "cell_type": "markdown",
   "metadata": {},
   "source": [
    "#### **2.2 Manejo de valores faltantes**"
   ]
  },
  {
   "cell_type": "code",
   "execution_count": 4,
   "metadata": {},
   "outputs": [
    {
     "name": "stdout",
     "output_type": "stream",
     "text": [
      "\n",
      "Valores nulos (NA) por variable\n"
     ]
    },
    {
     "data": {
      "text/plain": [
       "state                  0\n",
       "colonies_number        0\n",
       "yield_per_colony       0\n",
       "production             0\n",
       "stocks                 0\n",
       "average_price          0\n",
       "value_of_production    0\n",
       "year                   0\n",
       "dtype: int64"
      ]
     },
     "execution_count": 4,
     "metadata": {},
     "output_type": "execute_result"
    }
   ],
   "source": [
    "print('\\nValores nulos (NA) por variable')\n",
    "#cantidad de nulls por variable\n",
    "dataH.isnull().sum(axis = 0)"
   ]
  },
  {
   "attachments": {},
   "cell_type": "markdown",
   "metadata": {},
   "source": [
    "El dataset **no presenta celdas con valores *nulls o NA***. Por lo tanto, esta es la información de partida para posteriores análisis."
   ]
  },
  {
   "attachments": {},
   "cell_type": "markdown",
   "metadata": {},
   "source": [
    "#### **2.3 Valores únicos de variables**"
   ]
  },
  {
   "cell_type": "code",
   "execution_count": 5,
   "metadata": {},
   "outputs": [
    {
     "name": "stdout",
     "output_type": "stream",
     "text": [
      "Valores únicos de state: 44 \n",
      " ['Alabama' 'Arizona' 'Arkansas' 'California' 'Colorado' 'Florida'\n",
      " 'Georgia' 'Hawaii' 'Idaho' 'Illinois' 'Indiana' 'Iowa' 'Kansas'\n",
      " 'Kentucky' 'Louisiana' 'Maine' 'Maryland' 'Michigan' 'Minnesota'\n",
      " 'Mississippi' 'Missouri' 'Montana' 'Nebraska' 'Nevada' 'NewJersey'\n",
      " 'NewMexico' 'NewYork' 'NorthCarolina' 'NorthDakota' 'Ohio' 'Oklahoma'\n",
      " 'Oregon' 'Pennsylvania' 'SouthCarolina' 'SouthDakota' 'Tennessee' 'Texas'\n",
      " 'Utah' 'Vermont' 'Virginia' 'Washington' 'WestVirginia' 'Wisconsin'\n",
      " 'Wyoming']\n",
      "\n",
      "Valores únicos de year: 27 \n",
      " [1995 1996 1997 1998 1999 2000 2001 2002 2003 2004 2005 2006 2007 2008\n",
      " 2009 2010 2011 2012 2013 2014 2015 2016 2017 2018 2019 2020 2021]\n"
     ]
    }
   ],
   "source": [
    "est = dataH['state'].unique()\n",
    "est_unicos = est.size #función de numpy\n",
    "años = dataH['year'].unique()\n",
    "años_unicos = años.size\n",
    "print('Valores únicos de state:',est_unicos,'\\n', est)\n",
    "print('\\nValores únicos de year:',años_unicos,'\\n', años)"
   ]
  },
  {
   "attachments": {},
   "cell_type": "markdown",
   "metadata": {},
   "source": [
    "Traemos arriba los valores únicos de las dos variables categóricas consideradas en el análisis: ***'state' y 'year'***."
   ]
  },
  {
   "attachments": {},
   "cell_type": "markdown",
   "metadata": {},
   "source": [
    "#### **2.4 Representación gráfica**"
   ]
  },
  {
   "cell_type": "code",
   "execution_count": 6,
   "metadata": {},
   "outputs": [
    {
     "data": {
      "text/plain": [
       "[Text(0.5, 1.0, '\\nHistograma colonies_number\\n')]"
      ]
     },
     "execution_count": 6,
     "metadata": {},
     "output_type": "execute_result"
    },
    {
     "data": {
      "image/png": "[encoded data removed]",
      "text/plain": [
       "<Figure size 640x480 with 1 Axes>"
      ]
     },
     "metadata": {},
     "output_type": "display_data"
    }
   ],
   "source": [
    "#histograma 'colonies_number'\n",
    "sns.histplot(dataH['colonies_number']).set(title = '\\nHistograma colonies_number\\n')"
   ]
  },
  {
   "cell_type": "code",
   "execution_count": 7,
   "metadata": {},
   "outputs": [
    {
     "name": "stdout",
     "output_type": "stream",
     "text": [
      "Cuartiles de la variable colonies_number\n",
      "Q75% =  69000.0 \n",
      "Q100% =  550000.0\n"
     ]
    }
   ],
   "source": [
    "print('Cuartiles de la variable colonies_number')\n",
    "print('Q75% = ',dataH['colonies_number'].quantile(0.75),'\\nQ100% = ', dataH['colonies_number'].quantile(1))\n"
   ]
  },
  {
   "attachments": {},
   "cell_type": "markdown",
   "metadata": {},
   "source": [
    "***Variable 'colonies_number'***\n",
    "\n",
    "De acuerdo con el resumen estadístico del dataset presentado arriba y el histograma de la variable 'colonies_number', se considera lo siguiente:\n",
    "\n",
    "- El 75% de los datos de la variable están por debajo de 69.000 colonias.\n",
    "- El último 25% de los datos está entre 69.000 - 550.000 colonias.\n",
    "\n",
    "Esto muestra un marcado sesgo de los datos de la variable hacia la izquierda (más cercanos al valor 0), es decir, las entradas del dataset tienen en su gran mayoría un número de colonias por debajo de la media actual de esta variable (< 62.438 colonias).\n",
    "\n",
    "¿Se presentan outliers en este caso? El diagrama de cajas muestra una más adecuada representación de este análisis.\n"
   ]
  },
  {
   "cell_type": "code",
   "execution_count": 8,
   "metadata": {},
   "outputs": [
    {
     "data": {
      "text/plain": [
       "[Text(0.5, 1.0, '\\nDiagrama de cajas colonies_number\\n')]"
      ]
     },
     "execution_count": 8,
     "metadata": {},
     "output_type": "execute_result"
    },
    {
     "data": {
      "image/png": "[encoded data removed]",
      "text/plain": [
       "<Figure size 640x480 with 1 Axes>"
      ]
     },
     "metadata": {},
     "output_type": "display_data"
    }
   ],
   "source": [
    "#Diagrama de cajas 'colonies_number'\n",
    "sns.boxplot(data = dataH, x = 'colonies_number').set(title = '\\nDiagrama de cajas colonies_number\\n')"
   ]
  },
  {
   "attachments": {},
   "cell_type": "markdown",
   "metadata": {},
   "source": [
    "Entonces, se indagará sobre la causalidad para considerar los datos por encima del valor máximo entregado por el diagrama de cajas. Para esto, **se incluye en el análisis gráfico a las categorías *'state' y 'year'*** (variable numérica), para separar por grupos de datos.\n",
    "\n",
    "Sin embargo, previamente se mapean los datos brutos, dado que hablamos de más de 40 estados y más de 20 años, lo que dificulta una correcta visualización de histogramas y diagramas de caja.\n"
   ]
  }
 ],
 "metadata": {
  "kernelspec": {
   "display_name": "Python 3",
   "language": "python",
   "name": "python3"
  },
  "language_info": {
   "codemirror_mode": {
    "name": "ipython",
    "version": 3
   },
   "file_extension": ".py",
   "mimetype": "text/x-python",
   "name": "python",
   "nbconvert_exporter": "python",
   "pygments_lexer": "ipython3",
   "version": "3.11.1 (tags/v3.11.1:a7a450f, Dec  6 2022, 19:58:39) [MSC v.1934 64 bit (AMD64)]"
  },
  "orig_nbformat": 4,
  "vscode": {
   "interpreter": {
    "hash": "20a486c3bf0301bb58e2fea1ddd8bb3750e89558ef51617dd6c1b8d3d745afdd"
   }
  }
 },
 "nbformat": 4,
 "nbformat_minor": 2
}
